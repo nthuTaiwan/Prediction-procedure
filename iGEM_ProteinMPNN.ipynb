{
  "cells": [
    {
      "cell_type": "markdown",
      "metadata": {
        "id": "view-in-github",
        "colab_type": "text"
      },
      "source": [
        "<a href=\"https://colab.research.google.com/github/nthuTaiwan/Prediction-procedure/blob/main/iGEM_ProteinMPNN.ipynb\" target=\"_parent\"><img src=\"https://colab.research.google.com/assets/colab-badge.svg\" alt=\"Open In Colab\"/></a>"
      ]
    },
    {
      "cell_type": "markdown",
      "metadata": {
        "id": "LOrRpqgAU8J7"
      },
      "source": [
        "Block 1. 基礎設定：連接雲端硬碟與啟用 GPU\n",
        "---\n",
        "這個區塊負責所有初始設定，每次重啟會話時都需要執行。"
      ]
    },
    {
      "cell_type": "code",
      "execution_count": null,
      "metadata": {
        "cellView": "form",
        "colab": {
          "base_uri": "https://localhost:8080/"
        },
        "id": "Gm68zAlgRQnA",
        "outputId": "c8917f0b-1e71-4ba3-cfd7-9c45f89170c7"
      },
      "outputs": [
        {
          "output_type": "stream",
          "name": "stdout",
          "text": [
            "Thu Jun 26 15:43:18 2025       \n",
            "+-----------------------------------------------------------------------------------------+\n",
            "| NVIDIA-SMI 550.54.15              Driver Version: 550.54.15      CUDA Version: 12.4     |\n",
            "|-----------------------------------------+------------------------+----------------------+\n",
            "| GPU  Name                 Persistence-M | Bus-Id          Disp.A | Volatile Uncorr. ECC |\n",
            "| Fan  Temp   Perf          Pwr:Usage/Cap |           Memory-Usage | GPU-Util  Compute M. |\n",
            "|                                         |                        |               MIG M. |\n",
            "|=========================================+========================+======================|\n",
            "|   0  Tesla T4                       Off |   00000000:00:04.0 Off |                    0 |\n",
            "| N/A   55C    P8             10W /   70W |       0MiB /  15360MiB |      0%      Default |\n",
            "|                                         |                        |                  N/A |\n",
            "+-----------------------------------------+------------------------+----------------------+\n",
            "                                                                                         \n",
            "+-----------------------------------------------------------------------------------------+\n",
            "| Processes:                                                                              |\n",
            "|  GPU   GI   CI        PID   Type   Process name                              GPU Memory |\n",
            "|        ID   ID                                                               Usage      |\n",
            "|=========================================================================================|\n",
            "|  No running processes found                                                             |\n",
            "+-----------------------------------------------------------------------------------------+\n"
          ]
        }
      ],
      "source": [
        "# @title 1.1 驗證GPU環境\n",
        "!nvidia-smi"
      ]
    },
    {
      "cell_type": "code",
      "execution_count": null,
      "metadata": {
        "colab": {
          "base_uri": "https://localhost:8080/"
        },
        "id": "3VNcFf0BSutl",
        "outputId": "a02ec4bf-2312-4dba-f1cb-aec72f601fc0"
      },
      "outputs": [
        {
          "output_type": "stream",
          "name": "stdout",
          "text": [
            "Mounted at /content/drive\n"
          ]
        }
      ],
      "source": [
        "# 連線 Google drive\n",
        "from google.colab import drive\n",
        "drive.mount('/content/drive')"
      ]
    },
    {
      "cell_type": "code",
      "execution_count": null,
      "metadata": {
        "colab": {
          "base_uri": "https://localhost:8080/"
        },
        "id": "ws1fdMreVpTk",
        "outputId": "b109a905-f2a1-4a82-f8a5-36cb10378e7b"
      },
      "outputs": [
        {
          "output_type": "stream",
          "name": "stdout",
          "text": [
            "/content/drive/MyDrive/iGEM_ProteinMPNN\n"
          ]
        }
      ],
      "source": [
        "# @title 1.2 設定專案路徑\n",
        "import os\n",
        "PROJECT_PATH = '/content/drive/MyDrive/iGEM_ProteinMPNN'\n",
        "os.makedirs(PROJECT_PATH, exist_ok=True)\n",
        "%cd {PROJECT_PATH}"
      ]
    },
    {
      "cell_type": "markdown",
      "metadata": {
        "id": "m9_DjYDkXb1c"
      },
      "source": [
        "Block 2. 安裝所有軟體\n",
        "---\n",
        "只需執行一次，如果已經安裝過，可以跳過此區塊。"
      ]
    },
    {
      "cell_type": "code",
      "execution_count": null,
      "metadata": {
        "cellView": "form",
        "colab": {
          "base_uri": "https://localhost:8080/"
        },
        "collapsed": true,
        "id": "16tuf5YcWqfb",
        "outputId": "bbf46820-bb5f-4bff-907c-80c6a8f7dd31"
      },
      "outputs": [
        {
          "name": "stdout",
          "output_type": "stream",
          "text": [
            "Cloning into 'ProteinMPNN'...\n",
            "remote: Enumerating objects: 634, done.\u001b[K\n",
            "remote: Counting objects: 100% (239/239), done.\u001b[K\n",
            "remote: Compressing objects: 100% (85/85), done.\u001b[K\n",
            "remote: Total 634 (delta 185), reused 154 (delta 154), pack-reused 395 (from 1)\u001b[K\n",
            "Receiving objects: 100% (634/634), 119.91 MiB | 16.73 MiB/s, done.\n",
            "Resolving deltas: 100% (285/285), done.\n",
            "Updating files: 100% (109/109), done.\n",
            "/content/drive/MyDrive/iGEM/ProteinMPNN/ProteinMPNN/ProteinMPNN\n",
            "Requirement already satisfied: torch in /usr/local/lib/python3.11/dist-packages (2.6.0+cu124)\n",
            "Requirement already satisfied: torchvision in /usr/local/lib/python3.11/dist-packages (0.21.0+cu124)\n",
            "Requirement already satisfied: torchaudio in /usr/local/lib/python3.11/dist-packages (2.6.0+cu124)\n",
            "Requirement already satisfied: filelock in /usr/local/lib/python3.11/dist-packages (from torch) (3.18.0)\n",
            "Requirement already satisfied: typing-extensions>=4.10.0 in /usr/local/lib/python3.11/dist-packages (from torch) (4.14.0)\n",
            "Requirement already satisfied: networkx in /usr/local/lib/python3.11/dist-packages (from torch) (3.5)\n",
            "Requirement already satisfied: jinja2 in /usr/local/lib/python3.11/dist-packages (from torch) (3.1.6)\n",
            "Requirement already satisfied: fsspec in /usr/local/lib/python3.11/dist-packages (from torch) (2025.3.2)\n",
            "Requirement already satisfied: nvidia-cuda-nvrtc-cu12==12.4.127 in /usr/local/lib/python3.11/dist-packages (from torch) (12.4.127)\n",
            "Requirement already satisfied: nvidia-cuda-runtime-cu12==12.4.127 in /usr/local/lib/python3.11/dist-packages (from torch) (12.4.127)\n",
            "Requirement already satisfied: nvidia-cuda-cupti-cu12==12.4.127 in /usr/local/lib/python3.11/dist-packages (from torch) (12.4.127)\n",
            "Requirement already satisfied: nvidia-cudnn-cu12==9.1.0.70 in /usr/local/lib/python3.11/dist-packages (from torch) (9.1.0.70)\n",
            "Requirement already satisfied: nvidia-cublas-cu12==12.4.5.8 in /usr/local/lib/python3.11/dist-packages (from torch) (12.4.5.8)\n",
            "Requirement already satisfied: nvidia-cufft-cu12==11.2.1.3 in /usr/local/lib/python3.11/dist-packages (from torch) (11.2.1.3)\n",
            "Requirement already satisfied: nvidia-curand-cu12==10.3.5.147 in /usr/local/lib/python3.11/dist-packages (from torch) (10.3.5.147)\n",
            "Requirement already satisfied: nvidia-cusolver-cu12==11.6.1.9 in /usr/local/lib/python3.11/dist-packages (from torch) (11.6.1.9)\n",
            "Requirement already satisfied: nvidia-cusparse-cu12==12.3.1.170 in /usr/local/lib/python3.11/dist-packages (from torch) (12.3.1.170)\n",
            "Requirement already satisfied: nvidia-cusparselt-cu12==0.6.2 in /usr/local/lib/python3.11/dist-packages (from torch) (0.6.2)\n",
            "Requirement already satisfied: nvidia-nccl-cu12==2.21.5 in /usr/local/lib/python3.11/dist-packages (from torch) (2.21.5)\n",
            "Requirement already satisfied: nvidia-nvtx-cu12==12.4.127 in /usr/local/lib/python3.11/dist-packages (from torch) (12.4.127)\n",
            "Requirement already satisfied: nvidia-nvjitlink-cu12==12.4.127 in /usr/local/lib/python3.11/dist-packages (from torch) (12.4.127)\n",
            "Requirement already satisfied: triton==3.2.0 in /usr/local/lib/python3.11/dist-packages (from torch) (3.2.0)\n",
            "Requirement already satisfied: sympy==1.13.1 in /usr/local/lib/python3.11/dist-packages (from torch) (1.13.1)\n",
            "Requirement already satisfied: mpmath<1.4,>=1.1.0 in /usr/local/lib/python3.11/dist-packages (from sympy==1.13.1->torch) (1.3.0)\n",
            "Requirement already satisfied: numpy in /usr/local/lib/python3.11/dist-packages (from torchvision) (2.0.2)\n",
            "Requirement already satisfied: pillow!=8.3.*,>=5.3.0 in /usr/local/lib/python3.11/dist-packages (from torchvision) (11.2.1)\n",
            "Requirement already satisfied: MarkupSafe>=2.0 in /usr/local/lib/python3.11/dist-packages (from jinja2->torch) (3.0.2)\n",
            "Requirement already satisfied: numpy in /usr/local/lib/python3.11/dist-packages (2.0.2)\n"
          ]
        }
      ],
      "source": [
        "# @title 2.1 安裝ProteinMPNN\n",
        "!git clone https://github.com/dauparas/ProteinMPNN.git\n",
        "%cd ProteinMPNN\n",
        "!pip install torch torchvision torchaudio\n",
        "!pip install numpy"
      ]
    },
    {
      "cell_type": "code",
      "execution_count": null,
      "metadata": {
        "colab": {
          "base_uri": "https://localhost:8080/"
        },
        "collapsed": true,
        "id": "kbtQaG4l2oZo",
        "outputId": "41fcb8fd-11f7-4607-b7f1-8ab6e5a26c16",
        "cellView": "form"
      },
      "outputs": [
        {
          "name": "stdout",
          "output_type": "stream",
          "text": [
            "✨🍰✨ Everything looks OK!\n",
            "\n",
            "Looking for: ['gromacs']\n",
            "\n",
            "conda-forge/linux-64                                        Using cache\n",
            "conda-forge/noarch                                          Using cache\n",
            "\n",
            "Pinned packages:\n",
            "  - python 3.11.*\n",
            "  - python 3.11.*\n",
            "  - python_abi 3.11.* *cp311*\n",
            "  - cuda-version 12.*\n",
            "\n",
            "\n",
            "Transaction\n",
            "\n",
            "  Prefix: /usr/local\n",
            "\n",
            "  All requested packages already installed\n",
            "\n",
            "\u001b[?25l\u001b[2K\u001b[0G\u001b[?25h"
          ]
        }
      ],
      "source": [
        "# @title 2.2 安裝 GROMACS\n",
        "!pip install -q condacolab\n",
        "import condacolab\n",
        "condacolab.install()\n",
        "!mamba install -y -c conda-forge gromacs"
      ]
    },
    {
      "cell_type": "markdown",
      "metadata": {
        "id": "PB2oU7_m3Fc7"
      },
      "source": [
        "Block 3. 執行工作流程\n",
        "---\n",
        "從這裡開始是主要的研究循環。"
      ]
    },
    {
      "cell_type": "code",
      "source": [
        "# @title 3.0.1 設置 bias_aa_jsonl\n",
        "# /ProteinMPNN/helper_scripts/ Folder裡面還有很多helper scripts\n",
        "!python /content/drive/MyDrive/iGEM_ProteinMPNN/ProteinMPNN/helper_scripts/make_bias_AA.py \\\n",
        "    --output_path bias_AA.jsonl \\\n",
        "    --AA_list \"Y\" \\\n",
        "    --bias_list \"100.0\""
      ],
      "metadata": {
        "id": "iYdd4r3PQrGX"
      },
      "execution_count": null,
      "outputs": []
    },
    {
      "cell_type": "code",
      "source": [
        "!python test.py \\\n",
        "       --input_path /content/drive/MyDrive/iGEM_ProteinMPNN/inputs/backbones \\\n",
        "       --output_path parsed_pdbs.jsonl"
      ],
      "metadata": {
        "colab": {
          "base_uri": "https://localhost:8080/"
        },
        "id": "_DbsLBLutuWu",
        "outputId": "5e99c3b1-53ad-4a05-e686-f0c1db811cb3"
      },
      "execution_count": null,
      "outputs": [
        {
          "output_type": "stream",
          "name": "stdout",
          "text": [
            "Found 6 PDB files to process.\n",
            "Processing file 1/6: test_87fb1_unrelaxed_rank_002_alphafold2_ptm_model_5_seed_000.pdb\n",
            "Processing file 2/6: test_87fb1_unrelaxed_rank_005_alphafold2_ptm_model_4_seed_000.pdb\n",
            "Processing file 3/6: test_87fb1_unrelaxed_rank_004_alphafold2_ptm_model_1_seed_000.pdb\n",
            "Processing file 4/6: test_87fb1_unrelaxed_rank_003_alphafold2_ptm_model_3_seed_000.pdb\n",
            "Processing file 5/6: test_87fb1_unrelaxed_rank_001_alphafold2_ptm_model_2_seed_000.pdb\n",
            "Processing file 6/6: SopE.pdb\n",
            "\n",
            "Processing finished. Saved 6 parsed structures to parsed_pdbs.jsonl\n"
          ]
        }
      ]
    },
    {
      "cell_type": "code",
      "source": [
        "# @title 3.0.2 設置: parse_multiple_chains.py\n",
        "# /ProteinMPNN/helper_scripts/ Folder裡面還有很多helper scripts\n",
        "!python ProteinMPNN/helper_scripts/parse_multiple_chains.py \\\n",
        "       --input_path inputs/backbones \\\n",
        "       --output_path parsed_pdbs.jsonl"
      ],
      "metadata": {
        "id": "QJNZuWypvx8W"
      },
      "execution_count": null,
      "outputs": []
    },
    {
      "cell_type": "code",
      "source": [
        "!python ProteinMPNN/helper_scripts/make_fixed_positions_dict.py \\\n",
        "       --input_path parsed_pdbs.jsonl \\\n",
        "       --output_path fixed_positions.jsonl \\\n",
        "       --chain_list \"A\" \\\n",
        "       --position_list \"$(seq 1 76 | tr '\\n' ' ')\""
      ],
      "metadata": {
        "id": "CyCY0rcsuHtH"
      },
      "execution_count": null,
      "outputs": []
    },
    {
      "cell_type": "code",
      "execution_count": null,
      "metadata": {
        "colab": {
          "base_uri": "https://localhost:8080/"
        },
        "id": "QL_X9oTY7MHX",
        "outputId": "15d810ea-f0c9-4085-a783-b897af816303"
      },
      "outputs": [
        {
          "output_type": "stream",
          "name": "stdout",
          "text": [
            "成功找到 6 個 PDB 檔案，準備處理：\n",
            "['test_87fb1_unrelaxed_rank_002_alphafold2_ptm_model_5_seed_000.pdb', 'test_87fb1_unrelaxed_rank_005_alphafold2_ptm_model_4_seed_000.pdb', 'test_87fb1_unrelaxed_rank_004_alphafold2_ptm_model_1_seed_000.pdb', 'test_87fb1_unrelaxed_rank_003_alphafold2_ptm_model_3_seed_000.pdb', 'test_87fb1_unrelaxed_rank_001_alphafold2_ptm_model_2_seed_000.pdb', 'SopE.pdb']\n",
            "/content/drive/MyDrive/iGEM_ProteinMPNN/ProteinMPNN\n",
            "\n",
            "==================================================\n",
            "正在處理檔案： test_87fb1_unrelaxed_rank_002_alphafold2_ptm_model_5_seed_000.pdb\n",
            "完整輸入路徑： /content/drive/MyDrive/iGEM_ProteinMPNN/inputs/backbones/test_87fb1_unrelaxed_rank_002_alphafold2_ptm_model_5_seed_000.pdb\n",
            "==================================================\n",
            "\n",
            "----------------------------------------\n",
            "chain_id_jsonl is NOT loaded\n",
            "----------------------------------------\n",
            "pssm_jsonl is NOT loaded\n",
            "----------------------------------------\n",
            "omit_AA_jsonl is NOT loaded\n",
            "----------------------------------------\n",
            "tied_positions_jsonl is NOT loaded\n",
            "----------------------------------------\n",
            "bias by residue dictionary is not loaded, or not provided\n",
            "----------------------------------------\n",
            "----------------------------------------\n",
            "Number of edges: 48\n",
            "Training noise level: 0.2A\n",
            "Generating sequences for: test_87fb1_unrelaxed_rank_002_alphafold2_ptm_model_5_seed_000\n",
            "10 sequences of length 175 generated in 21.5938 seconds\n",
            "\n",
            "==================================================\n",
            "正在處理檔案： test_87fb1_unrelaxed_rank_005_alphafold2_ptm_model_4_seed_000.pdb\n",
            "完整輸入路徑： /content/drive/MyDrive/iGEM_ProteinMPNN/inputs/backbones/test_87fb1_unrelaxed_rank_005_alphafold2_ptm_model_4_seed_000.pdb\n",
            "==================================================\n",
            "\n",
            "----------------------------------------\n",
            "chain_id_jsonl is NOT loaded\n",
            "----------------------------------------\n",
            "pssm_jsonl is NOT loaded\n",
            "----------------------------------------\n",
            "omit_AA_jsonl is NOT loaded\n",
            "----------------------------------------\n",
            "tied_positions_jsonl is NOT loaded\n",
            "----------------------------------------\n",
            "bias by residue dictionary is not loaded, or not provided\n",
            "----------------------------------------\n",
            "----------------------------------------\n",
            "Number of edges: 48\n",
            "Training noise level: 0.2A\n",
            "Generating sequences for: test_87fb1_unrelaxed_rank_005_alphafold2_ptm_model_4_seed_000\n",
            "10 sequences of length 175 generated in 21.8016 seconds\n",
            "\n",
            "==================================================\n",
            "正在處理檔案： test_87fb1_unrelaxed_rank_004_alphafold2_ptm_model_1_seed_000.pdb\n",
            "完整輸入路徑： /content/drive/MyDrive/iGEM_ProteinMPNN/inputs/backbones/test_87fb1_unrelaxed_rank_004_alphafold2_ptm_model_1_seed_000.pdb\n",
            "==================================================\n",
            "\n",
            "----------------------------------------\n",
            "chain_id_jsonl is NOT loaded\n",
            "----------------------------------------\n",
            "pssm_jsonl is NOT loaded\n",
            "----------------------------------------\n",
            "omit_AA_jsonl is NOT loaded\n",
            "----------------------------------------\n",
            "tied_positions_jsonl is NOT loaded\n",
            "----------------------------------------\n",
            "bias by residue dictionary is not loaded, or not provided\n",
            "----------------------------------------\n",
            "----------------------------------------\n",
            "Number of edges: 48\n",
            "Training noise level: 0.2A\n",
            "Generating sequences for: test_87fb1_unrelaxed_rank_004_alphafold2_ptm_model_1_seed_000\n",
            "Traceback (most recent call last):\n",
            "  File \"/content/drive/MyDrive/iGEM_ProteinMPNN/ProteinMPNN/protein_mpnn_run.py\", line 328, in main\n",
            "    sample_dict = model.sample(X, randn_2, S, chain_M, chain_encoding_all, residue_idx, mask=mask, temperature=temp, omit_AAs_np=omit_AAs_np, bias_AAs_np=bias_AAs_np, chain_M_pos=chain_M_pos, omit_AA_mask=omit_AA_mask, pssm_coef=pssm_coef, pssm_bias=pssm_bias, pssm_multi=args.pssm_multi, pssm_log_odds_flag=bool(args.pssm_log_odds_flag), pssm_log_odds_mask=pssm_log_odds_mask, pssm_bias_flag=bool(args.pssm_bias_flag), bias_by_res=bias_by_res_all)\n",
            "                  ^^^^^^^^^^^^^^^^^^^^^^^^^^^^^^^^^^^^^^^^^^^^^^^^^^^^^^^^^^^^^^^^^^^^^^^^^^^^^^^^^^^^^^^^^^^^^^^^^^^^^^^^^^^^^^^^^^^^^^^^^^^^^^^^^^^^^^^^^^^^^^^^^^^^^^^^^^^^^^^^^^^^^^^^^^^^^^^^^^^^^^^^^^^^^^^^^^^^^^^^^^^^^^^^^^^^^^^^^^^^^^^^^^^^^^^^^^^^^^^^^^^^^^^^^^^^^^^^^^^^^^^^^^^^^^^^^^^^^^^^^^^^^^^^^^^^^^^^^^^^^^^^^^^^^^^^^^^^^^^^^^^^^^^^^^^^^^^^^^^^^^^^^^^^^^^^^^^^^^^^^^^^^^^^^^^^^^^^^^^^^^^^^^^^^^^^^^^^^^^^^^^^^^^^^^^^^^^^^^^^^^^^^^^^^^\n",
            "  File \"/content/drive/MyDrive/iGEM_ProteinMPNN/ProteinMPNN/protein_mpnn_utils.py\", line 1159, in sample\n",
            "    h_ESV_decoder_t = cat_neighbors_nodes(h_V_stack[l], h_ES_t, E_idx_t)\n",
            "                      ^^^^^^^^^^^^^^^^^^^^^^^^^^^^^^^^^^^^^^^^^^^^^^^^^^\n",
            "  File \"/content/drive/MyDrive/iGEM_ProteinMPNN/ProteinMPNN/protein_mpnn_utils.py\", line 619, in cat_neighbors_nodes\n",
            "    h_nn = torch.cat([h_neighbors, h_nodes], -1)\n",
            "           ^^^^^^^^^^^^^^^^^^^^^^^^^^^^^^^^^^^^^\n",
            "KeyboardInterrupt\n",
            "\n",
            "During handling of the above exception, another exception occurred:\n",
            "\n",
            "Traceback (most recent call last):\n",
            "  File \"/content/drive/MyDrive/iGEM_ProteinMPNN/ProteinMPNN/protein_mpnn_run.py\", line 469, in <module>\n",
            "    main(args)   \n",
            "    ^^^^^^^^^^\n",
            "  File \"/content/drive/MyDrive/iGEM_ProteinMPNN/ProteinMPNN/protein_mpnn_run.py\", line 227, in main\n",
            "    with torch.no_grad():\n",
            "  File \"/usr/local/lib/python3.11/dist-packages/torch/autograd/grad_mode.py\", line 84, in __exit__\n",
            "    def __exit__(self, exc_type: Any, exc_value: Any, traceback: Any) -> None:\n",
            "\n",
            "KeyboardInterrupt\n",
            "^C\n",
            "\n",
            "==================================================\n",
            "正在處理檔案： test_87fb1_unrelaxed_rank_003_alphafold2_ptm_model_3_seed_000.pdb\n",
            "完整輸入路徑： /content/drive/MyDrive/iGEM_ProteinMPNN/inputs/backbones/test_87fb1_unrelaxed_rank_003_alphafold2_ptm_model_3_seed_000.pdb\n",
            "==================================================\n",
            "\n",
            "----------------------------------------\n",
            "chain_id_jsonl is NOT loaded\n",
            "----------------------------------------\n",
            "pssm_jsonl is NOT loaded\n",
            "----------------------------------------\n",
            "omit_AA_jsonl is NOT loaded\n",
            "----------------------------------------\n",
            "tied_positions_jsonl is NOT loaded\n",
            "----------------------------------------\n",
            "bias by residue dictionary is not loaded, or not provided\n",
            "----------------------------------------\n",
            "----------------------------------------\n",
            "Number of edges: 48\n",
            "Training noise level: 0.2A\n",
            "Generating sequences for: test_87fb1_unrelaxed_rank_003_alphafold2_ptm_model_3_seed_000\n",
            "10 sequences of length 175 generated in 20.5074 seconds\n",
            "\n",
            "==================================================\n",
            "正在處理檔案： test_87fb1_unrelaxed_rank_001_alphafold2_ptm_model_2_seed_000.pdb\n",
            "完整輸入路徑： /content/drive/MyDrive/iGEM_ProteinMPNN/inputs/backbones/test_87fb1_unrelaxed_rank_001_alphafold2_ptm_model_2_seed_000.pdb\n",
            "==================================================\n",
            "\n",
            "----------------------------------------\n",
            "chain_id_jsonl is NOT loaded\n",
            "----------------------------------------\n",
            "pssm_jsonl is NOT loaded\n",
            "----------------------------------------\n",
            "omit_AA_jsonl is NOT loaded\n",
            "----------------------------------------\n",
            "tied_positions_jsonl is NOT loaded\n",
            "----------------------------------------\n",
            "bias by residue dictionary is not loaded, or not provided\n",
            "----------------------------------------\n",
            "----------------------------------------\n",
            "Number of edges: 48\n",
            "Training noise level: 0.2A\n",
            "Generating sequences for: test_87fb1_unrelaxed_rank_001_alphafold2_ptm_model_2_seed_000\n",
            "10 sequences of length 175 generated in 20.3066 seconds\n",
            "\n",
            "==================================================\n",
            "正在處理檔案： SopE.pdb\n",
            "完整輸入路徑： /content/drive/MyDrive/iGEM_ProteinMPNN/inputs/backbones/SopE.pdb\n",
            "==================================================\n",
            "\n",
            "----------------------------------------\n",
            "chain_id_jsonl is NOT loaded\n",
            "----------------------------------------\n",
            "pssm_jsonl is NOT loaded\n",
            "----------------------------------------\n",
            "omit_AA_jsonl is NOT loaded\n",
            "----------------------------------------\n",
            "tied_positions_jsonl is NOT loaded\n",
            "----------------------------------------\n",
            "bias by residue dictionary is not loaded, or not provided\n",
            "----------------------------------------\n",
            "----------------------------------------\n",
            "Number of edges: 48\n",
            "Training noise level: 0.2A\n",
            "Generating sequences for: SopE\n",
            "10 sequences of length 240 generated in 29.1233 seconds\n",
            "\n",
            "所有檔案處理完畢！\n",
            "/content/drive/MyDrive/iGEM_ProteinMPNN\n"
          ]
        }
      ],
      "source": [
        "# @title 3.1 步驟 A：【自動化批次執行】ProteinMPNN 生成序列\n",
        "# 會自動尋找 backbones 資料夾中所有的 .pdb files，並為每一個檔案執行 ProteinMPNN。\n",
        "\n",
        "import os\n",
        "try:\n",
        "    PROJECT_PATH\n",
        "except NameError:\n",
        "    PROJECT_PATH = '/content/drive/MyDrive/iGEM_ProteinMPNN'\n",
        "\n",
        "backbones_folder = f\"{PROJECT_PATH}/inputs/backbones\"\n",
        "output_folder = f\"{PROJECT_PATH}/outputs/mpnn_sequences/\"\n",
        "bias_aa_path = f\"{PROJECT_PATH}/bias_AA.jsonl\"\n",
        "fixed_positions_path = f\"{PROJECT_PATH}/fixed_positions.jsonl\"\n",
        "os.makedirs(backbones_folder, exist_ok=True)\n",
        "os.makedirs(output_folder, exist_ok=True)\n",
        "\n",
        "try:\n",
        "    pdb_files = [f for f in os.listdir(backbones_folder) if f.endswith('.pdb')]\n",
        "    if not pdb_files:\n",
        "        print(f\"警告：在 '{backbones_folder}' 中沒有找到任何 .pdb 檔案。\")\n",
        "    else:\n",
        "        print(f\"成功找到 {len(pdb_files)} 個 PDB 檔案，準備處理：\")\n",
        "        print(pdb_files)\n",
        "except FileNotFoundError:\n",
        "    print(f\"發生錯誤\")\n",
        "    pdb_files = [] # 建立一個空列表以避免後續錯誤\n",
        "\n",
        "if pdb_files:\n",
        "    %cd {PROJECT_PATH}/ProteinMPNN\n",
        "    for pdb_file_name in pdb_files:\n",
        "        current_pdb_input_path = os.path.join(backbones_folder, pdb_file_name)\n",
        "\n",
        "        print(\"\\n\" + \"=\"*50)\n",
        "        print(f\"正在處理檔案： {pdb_file_name}\")\n",
        "        print(f\"完整輸入路徑： {current_pdb_input_path}\")\n",
        "        print(\"=\"*50 + \"\\n\")\n",
        "\n",
        "        !python protein_mpnn_run.py \\\n",
        "                --pdb_path \"{current_pdb_input_path}\" \\\n",
        "                --out_folder \"{output_folder}\" \\\n",
        "                --num_seq_per_target 10 \\\n",
        "                --bias_AA_jsonl \"{bias_aa_path}\" \\\n",
        "                --fixed_positions_jsonl \"{fixed_positions_path}\"\n",
        "print(\"\\n所有檔案處理完畢！\")\n",
        "%cd {PROJECT_PATH}"
      ]
    },
    {
      "cell_type": "code",
      "execution_count": null,
      "metadata": {
        "colab": {
          "background_save": true,
          "base_uri": "https://localhost:8080/"
        },
        "id": "3YKfLNilASfD",
        "outputId": "cfd93be5-4cb2-4d84-9844-b73089116387"
      },
      "outputs": [
        {
          "name": "stdout",
          "output_type": "stream",
          "text": [
            "安裝 ColabFold 中... (可能需要幾分鐘)\n",
            "  Installing build dependencies ... \u001b[?25l\u001b[?25hdone\n",
            "  Getting requirements to build wheel ... \u001b[?25l\u001b[?25hdone\n",
            "  Preparing metadata (pyproject.toml) ... \u001b[?25l\u001b[?25hdone\n",
            "\u001b[2K   \u001b[90m━━━━━━━━━━━━━━━━━━━━━━━━━━━━━━━━━━━━━━━━\u001b[0m \u001b[32m242.2/242.2 kB\u001b[0m \u001b[31m16.5 MB/s\u001b[0m eta \u001b[36m0:00:00\u001b[0m\n",
            "\u001b[2K   \u001b[90m━━━━━━━━━━━━━━━━━━━━━━━━━━━━━━━━━━━━━━━━\u001b[0m \u001b[32m3.3/3.3 MB\u001b[0m \u001b[31m62.2 MB/s\u001b[0m eta \u001b[36m0:00:00\u001b[0m\n",
            "\u001b[2K   \u001b[90m━━━━━━━━━━━━━━━━━━━━━━━━━━━━━━━━━━━━━━━━\u001b[0m \u001b[32m373.9/373.9 kB\u001b[0m \u001b[31m23.4 MB/s\u001b[0m eta \u001b[36m0:00:00\u001b[0m\n",
            "\u001b[2K   \u001b[90m━━━━━━━━━━━━━━━━━━━━━━━━━━━━━━━━━━━━━━━━\u001b[0m \u001b[32m251.8/251.8 MB\u001b[0m \u001b[31m5.3 MB/s\u001b[0m eta \u001b[36m0:00:00\u001b[0m\n",
            "\u001b[2K   \u001b[90m━━━━━━━━━━━━━━━━━━━━━━━━━━━━━━━━━━━━━━━━\u001b[0m \u001b[32m4.7/4.7 MB\u001b[0m \u001b[31m70.4 MB/s\u001b[0m eta \u001b[36m0:00:00\u001b[0m\n",
            "\u001b[2K   \u001b[90m━━━━━━━━━━━━━━━━━━━━━━━━━━━━━━━━━━━━━━━━\u001b[0m \u001b[32m5.5/5.5 MB\u001b[0m \u001b[31m89.7 MB/s\u001b[0m eta \u001b[36m0:00:00\u001b[0m\n",
            "\u001b[2K   \u001b[90m━━━━━━━━━━━━━━━━━━━━━━━━━━━━━━━━━━━━━━━━\u001b[0m \u001b[32m76.7/76.7 kB\u001b[0m \u001b[31m6.1 MB/s\u001b[0m eta \u001b[36m0:00:00\u001b[0m\n",
            "\u001b[?25h  Building wheel for colabfold (pyproject.toml) ... \u001b[?25l\u001b[?25hdone\n",
            "\u001b[31mERROR: pip's dependency resolver does not currently take into account all the packages that are installed. This behaviour is the source of the following dependency conflicts.\n",
            "tensorflow 2.18.0 requires ml-dtypes<0.5.0,>=0.4.0, but you have ml-dtypes 0.5.1 which is incompatible.\n",
            "tensorflow 2.18.0 requires tensorboard<2.19,>=2.18, but you have tensorboard 2.19.0 which is incompatible.\u001b[0m\u001b[31m\n",
            "\u001b[0mColabFold 安裝完成！\n",
            "Matplotlib backend 已設定為 'agg' 來避免衝突。\n",
            "開始對檔案 'test_87fb1_unrelaxed_rank_001_alphafold2_ptm_model_2_seed_000.fa' 中的所有序列進行預測...\n",
            "2025-06-26 09:44:40,381 Running colabfold 1.5.5 (64c8b2fe2ecf3199bc2d3c60b5da4b929a41086e)\n",
            "Downloading alphafold2_ptm weights to /root/.cache/colabfold: 100% 3.47G/3.47G [00:21<00:00, 175MB/s]\n",
            "\n",
            "WARNING: You are welcome to use the default MSA server, however keep in mind that it's a\n",
            "limited shared resource only capable of processing a few thousand MSAs per day. Please\n",
            "submit jobs only from a single IP address. We reserve the right to limit access to the\n",
            "server case-by-case when usage exceeds fair use. If you require more MSAs: You can \n",
            "precompute all MSAs with `colabfold_search` or host your own API and pass it to `--host-url`\n",
            "\n",
            "2025-06-26 09:45:02,368 WARNING: no GPU detected, will be using CPU\n",
            "2025-06-26 09:45:08,308 Found 5 citations for tools or databases\n",
            "2025-06-26 09:45:08,309 Query 1/11: test_87fb1_unrelaxed_rank_001_alphafold2_ptm_model_2_seed_000__score_1.7695__global_score_1.7695__fixed_chains_____designed_chains___A____model_name_v_48_020__git_hash_8907e6671bfbfc92303b5f79c4b5e6ce47cdef57__seed_873 (length 175)\n",
            "COMPLETE: 100% 150/150 [00:00<00:00, 208.48it/s]\n",
            "WARNING: All log messages before absl::InitializeLog() is called are written to STDERR\n",
            "I0000 00:00:1750931120.981960    2826 mlir_graph_optimization_pass.cc:425] MLIR V1 optimization pass is not enabled\n",
            "2025-06-26 09:45:21.533686: W external/local_xla/xla/tsl/framework/cpu_allocator_impl.cc:83] Allocation of 70246400 exceeds 10% of free system memory.\n",
            "Traceback (most recent call last):\n",
            "  File \"/usr/local/bin/colabfold_batch\", line 8, in <module>\n",
            "    sys.exit(main())\n",
            "             ^^^^^^\n",
            "  File \"/usr/local/lib/python3.11/dist-packages/colabfold/batch.py\", line 1967, in main\n",
            "    run(\n",
            "  File \"/usr/local/lib/python3.11/dist-packages/colabfold/batch.py\", line 1397, in run\n",
            "    results = predict_structure(\n",
            "              ^^^^^^^^^^^^^^^^^^\n",
            "  File \"/usr/local/lib/python3.11/dist-packages/colabfold/batch.py\", line 431, in predict_structure\n",
            "    model_runner.predict(input_features,\n",
            "  File \"/usr/local/lib/python3.11/dist-packages/alphafold/model/model.py\", line 186, in predict\n",
            "    result, prev = run(sub_key, sub_feat, prev)\n",
            "                   ^^^^^^^^^^^^^^^^^^^^^^^^^^^^\n",
            "  File \"/usr/local/lib/python3.11/dist-packages/alphafold/model/model.py\", line 166, in run\n",
            "    result = _jnp_to_np(self.apply(self.params, key, {**feat, \"prev\":prev}))\n",
            "             ^^^^^^^^^^^^^^^^^^^^^^^^^^^^^^^^^^^^^^^^^^^^^^^^^^^^^^^^^^^^^^^\n",
            "  File \"/usr/local/lib/python3.11/dist-packages/alphafold/model/model.py\", line 164, in _jnp_to_np\n",
            "    x[k] = np.asarray(v,np.float16)\n",
            "           ^^^^^^^^^^^^^^^^^^^^^^^^\n",
            "KeyboardInterrupt\n",
            "^C\n",
            "==================================================\n",
            "所有序列預測完成！\n",
            "結果已儲存至: /content/drive/MyDrive/iGEM/outputs/colabfold_results/\n",
            "==================================================\n"
          ]
        }
      ],
      "source": [
        "# @title 3.2 步驟 B：全自動執行 ColabFold 結構預測 (Still building)\n",
        "# 這個儲存格會自動完成以下任務：\n",
        "# 1. 安裝 ColabFold 指令行工具。\n",
        "# 2. 讀取 ProteinMPNN 生成的多序列 FASTA 檔案。\n",
        "# 3. 對檔案中的 **每一個序列** 執行 AlphaFold2 預測。\n",
        "# 4. 將每個預測結果（PDB、圖片等）分別儲存在以序列名命名的資料夾中。\n",
        "\n",
        "import os\n",
        "print(\"安裝 ColabFold 中... (可能需要幾分鐘)\")\n",
        "!pip install -q \"colabfold[alphafold] @ git+https://github.com/sokrypton/ColabFold\"\n",
        "print(\"ColabFold 安裝完成！\")\n",
        "\n",
        "MPNN_OUTPUT_DIR = f\"{PROJECT_PATH}/outputs/mpnn_sequences/seqs/\"\n",
        "COLABFOLD_RESULTS_DIR = f\"{PROJECT_PATH}/outputs/colabfold_results/\"\n",
        "os.makedirs(COLABFOLD_RESULTS_DIR, exist_ok=True)\n",
        "\n",
        "FASTA_INPUT_FILE = os.path.join(MPNN_OUTPUT_DIR, \"test_87fb1_unrelaxed_rank_001_alphafold2_ptm_model_2_seed_000.fa\")\n",
        "\n",
        "os.environ['MPLBACKEND'] = 'agg'\n",
        "print(f\"Matplotlib backend 已設定為 'agg' 來避免衝突。\")\n",
        "\n",
        "print(f\"開始對檔案 '{os.path.basename(FASTA_INPUT_FILE)}' 中的所有序列進行預測...\")\n",
        "!colabfold_batch {FASTA_INPUT_FILE} {COLABFOLD_RESULTS_DIR}\n",
        "\n",
        "print(\"=\"*50)\n",
        "print(f\"所有序列預測完成！\")\n",
        "print(f\"結果已儲存至: {COLABFOLD_RESULTS_DIR}\")\n",
        "print(\"=\"*50)"
      ]
    }
  ],
  "metadata": {
    "colab": {
      "provenance": [],
      "authorship_tag": "ABX9TyNll6KIJP47mpyXxnPkq6zY",
      "include_colab_link": true
    },
    "kernelspec": {
      "display_name": "Python 3",
      "name": "python3"
    },
    "language_info": {
      "name": "python"
    }
  },
  "nbformat": 4,
  "nbformat_minor": 0
}